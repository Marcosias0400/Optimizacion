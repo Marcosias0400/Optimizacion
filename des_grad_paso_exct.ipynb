{
  "nbformat": 4,
  "nbformat_minor": 0,
  "metadata": {
    "colab": {
      "provenance": [],
      "authorship_tag": "ABX9TyPYNX3RaQUREvLAbsQfTxXo",
      "include_colab_link": true
    },
    "kernelspec": {
      "name": "python3",
      "display_name": "Python 3"
    },
    "language_info": {
      "name": "python"
    }
  },
  "cells": [
    {
      "cell_type": "markdown",
      "metadata": {
        "id": "view-in-github",
        "colab_type": "text"
      },
      "source": [
        "<a href=\"https://colab.research.google.com/github/Marcosias0400/Optimizacion/blob/main/des_grad_paso_exct.ipynb\" target=\"_parent\"><img src=\"https://colab.research.google.com/assets/colab-badge.svg\" alt=\"Open In Colab\"/></a>"
      ]
    },
    {
      "cell_type": "code",
      "execution_count": 1,
      "metadata": {
        "id": "rtxYxM98wCFr"
      },
      "outputs": [],
      "source": [
        "%matplotlib inline\n",
        "import matplotlib.pyplot as plt\n",
        "import numpy as np"
      ]
    },
    {
      "cell_type": "code",
      "source": [
        "# funcion de prueba\n",
        "def f(x,C:np.float64)->np.float64:\n",
        "  return np.float64(2*x[0]**2+2*x[0]*x[1]+3*x[1]**2/2-x[0]+x[1]+C)"
      ],
      "metadata": {
        "id": "eMkc9W7UwMvS"
      },
      "execution_count": 2,
      "outputs": []
    },
    {
      "cell_type": "code",
      "source": [
        "def d1f(x:np.array)->np.array:\n",
        "  return np.array([4*x[0]+2*x[1]-1,3*x[1]+2*x[0]+1])"
      ],
      "metadata": {
        "id": "dZo3MBqf2Qlt"
      },
      "execution_count": 3,
      "outputs": []
    },
    {
      "cell_type": "code",
      "source": [
        "alp, bet, k, tol, N=1e-4,1e-1,0,1e-3,50\n",
        "A=np.array([[4,2],[2,3]])\n",
        "Xk=np.array([3,-2])\n",
        "l=[]\n",
        "while(np.linalg.norm(d1f(Xk))>=tol and k<=N):\n",
        "  gk=d1f(Xk)\n",
        "  lam=np.dot(gk,gk)/np.dot(np.dot(gk,A),gk)\n",
        "  Xk=Xk-lam*gk\n",
        "  k+=1\n",
        "  l.append([k,Xk,np.linalg.norm(d1f(Xk)),f(Xk,1),lam])"
      ],
      "metadata": {
        "id": "QchXNwzD2WA_"
      },
      "execution_count": 6,
      "outputs": []
    },
    {
      "cell_type": "code",
      "source": [
        "for o in l:\n",
        "  print(\"it: \"+str(o[0])+\"  x:\"+str(o[1])+\" dir:\"+str(o[2])+\" f:\"+str(o[3])+\" lambda:\"+str(o[4]))"
      ],
      "metadata": {
        "colab": {
          "base_uri": "https://localhost:8080/"
        },
        "id": "ElRoJIt42j-Y",
        "outputId": "749f86b8-9fe9-40ea-e2b6-4da775c4a629"
      },
      "execution_count": 8,
      "outputs": [
        {
          "output_type": "stream",
          "name": "stdout",
          "text": [
            "it: 1  x:[ 1.45814978 -2.22026432] dir:2.7723569835067288 f:2.4933920704845822 lambda:0.22026431718061673\n",
            "it: 2  x:[ 1.29877153 -1.1046166 ] dir:2.0060144026999907 f:0.931204419265369 lambda:0.4065040650406505\n",
            "it: 3  x:[ 0.86135899 -1.1671041 ] dir:0.786499038944048 f:0.4880222844812502 lambda:0.22026431718061668\n",
            "it: 4  x:[ 0.81614445 -0.85060234] dir:0.5690928005367504 f:0.3622944921519995 lambda:0.40650406504065084\n",
            "it: 5  x:[ 0.69205346 -0.86832963] dir:0.22312449007828547 f:0.3266263626781273 lambda:0.22026431718061665\n",
            "it: 6  x:[ 0.6792264  -0.77854021] dir:0.16144780176396267 f:0.31650755412676634 lambda:0.4065040650406501\n",
            "it: 7  x:[ 0.64402261 -0.78356932] dir:0.06329891787221399 f:0.31363691616482636 lambda:0.22026431718061662\n",
            "it: 8  x:[ 0.64038366 -0.75809667] dir:0.04580165602135795 f:0.31282253547299843 lambda:0.40650406504065334\n",
            "it: 9  x:[ 0.63039659 -0.75952339] dir:0.017957477470928962 f:0.31259150114543255 lambda:0.22026431718061676\n",
            "it: 10  x:[ 0.62936424 -0.75229697] dir:0.012993621909859065 f:0.3125259582598392 lambda:0.40650406504064\n",
            "it: 11  x:[ 0.62653098 -0.75270172] dir:0.005094415638667517 f:0.312507364183811 lambda:0.22026431718062134\n",
            "it: 12  x:[ 0.62623811 -0.75065163] dir:0.0036862031857025097 f:0.3125020891694411 lambda:0.4065040650406069\n",
            "it: 13  x:[ 0.62543433 -0.75076646] dir:0.0014452514692843154 f:0.31250059268332586 lambda:0.22026431718062556\n",
            "it: 14  x:[ 0.62535124 -0.75018486] dir:0.0010457510631405617 f:0.31250016814027515 lambda:0.40650406504059916\n",
            "it: 15  x:[ 0.62512322 -0.75021744] dir:0.0004100081260772395 f:0.31250004770026585 lambda:0.22026431718069456\n"
          ]
        }
      ]
    }
  ]
}