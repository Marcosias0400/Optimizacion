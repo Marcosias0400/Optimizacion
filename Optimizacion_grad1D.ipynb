{
  "nbformat": 4,
  "nbformat_minor": 0,
  "metadata": {
    "colab": {
      "provenance": [],
      "authorship_tag": "ABX9TyOpNMTCROyIndA3n976Jk7/",
      "include_colab_link": true
    },
    "kernelspec": {
      "name": "python3",
      "display_name": "Python 3"
    },
    "language_info": {
      "name": "python"
    }
  },
  "cells": [
    {
      "cell_type": "markdown",
      "metadata": {
        "id": "view-in-github",
        "colab_type": "text"
      },
      "source": [
        "<a href=\"https://colab.research.google.com/github/Marcosias0400/Optimizacion/blob/main/Optimizacion_grad1D.ipynb\" target=\"_parent\"><img src=\"https://colab.research.google.com/assets/colab-badge.svg\" alt=\"Open In Colab\"/></a>"
      ]
    },
    {
      "cell_type": "markdown",
      "source": [
        "Problema: \\\\\n",
        "EL precio de un sistema de energía solar es dado por: \\\\\n",
        "U=35A+108V \\\\\n",
        "donde A es la superficie del colector y V es el volumen de la bateria que almacena la energía. Debido a consideraciones de balance de energía, se puede considerar que: \\\\\n",
        "A(290-100/V)=5833.3 \\\\\n",
        "Adicionalmente el volúmen de la batería V está relacionado a la temperatura de operación del sistema T. y esta configurado tal que: \\\\\n",
        "V=50/(T-20) \\\\\n",
        "Los proveedores de batería únicamente proveen modelos que trabajan entre 40 y 90 grados. Se desea optimizar el costo U considerando las limitaciones presentadas."
      ],
      "metadata": {
        "id": "G21oKlDFqHD3"
      }
    },
    {
      "cell_type": "markdown",
      "source": [
        "Solucion: \\\\\n",
        "Juntando todas las expresiones y expresando en términos de T tenemos la siguiente ecuación: \\\\\n",
        "U=204615.5/(330-2T) + 10400/(T-20)"
      ],
      "metadata": {
        "id": "Hko47ARzsCp0"
      }
    },
    {
      "cell_type": "code",
      "execution_count": 8,
      "metadata": {
        "colab": {
          "base_uri": "https://localhost:8080/",
          "height": 449
        },
        "id": "E-XLkoZhounl",
        "outputId": "7ad020a0-309b-49c9-e15f-6e04900b6392"
      },
      "outputs": [
        {
          "output_type": "display_data",
          "data": {
            "text/plain": [
              "<Figure size 640x480 with 1 Axes>"
            ],
            "image/png": "[encoded data removed]"
          },
          "metadata": {}
        }
      ],
      "source": [
        "%matplotlib inline\n",
        "import matplotlib.pyplot as plt\n",
        "import numpy as np\n",
        "a=40\n",
        "b=90\n",
        "T=np.linspace(a,b,100)\n",
        "U=204165.5/(330-2*T) + 10400/(T-20)\n",
        "plt.figure()\n",
        "plt.plot(T,U,'*r')\n",
        "plt.xlabel('Temperatura')\n",
        "plt.ylabel('Costo')\n",
        "plt.show()"
      ]
    },
    {
      "cell_type": "markdown",
      "source": [
        "Métodos Basados en gradiente \\\\\n",
        "Puesto que en estos se nesecita calcular la derivada, se utilizara python para derivar la siguiente ecuación: \\\\\n",
        "U=204165.5/(330-2T) + 10400/(T-20) \\\\\n",
        "Entonces la primera y la segunda derivada se puede calcular de la siguiente manera:"
      ],
      "metadata": {
        "id": "BbE-WuBkz0Pr"
      }
    },
    {
      "cell_type": "code",
      "source": [
        "import sympy as sy\n",
        "def calcularGradiente():\n",
        "  T=sy.Symbol('T')\n",
        "  fu=204165.5/(330-2*T) + 10400/(T-20)\n",
        "  d1fu=sy.diff(fu)\n",
        "  print(fu)\n",
        "  print(d1fu)\n",
        "  return None\n",
        "calcularGradiente()"
      ],
      "metadata": {
        "colab": {
          "base_uri": "https://localhost:8080/"
        },
        "id": "cxUzqvb10WZu",
        "outputId": "237267b1-3cac-464a-dee0-9f6e5dae29fe"
      },
      "execution_count": 9,
      "outputs": [
        {
          "output_type": "stream",
          "name": "stdout",
          "text": [
            "10400/(T - 20) + 204165.5/(330 - 2*T)\n",
            "-10400/(T - 20)**2 + 408331.0/(330 - 2*T)**2\n"
          ]
        }
      ]
    },
    {
      "cell_type": "code",
      "source": [
        "def U(T):\n",
        "  return 204165.5/(330-2*T) + 10400/(T-20)\n",
        "U(55.08)"
      ],
      "metadata": {
        "colab": {
          "base_uri": "https://localhost:8080/"
        },
        "id": "k9tuEcbW1IPX",
        "outputId": "359ac26e-7f2d-4a5a-8421-dd8fa16f78c2"
      },
      "execution_count": 12,
      "outputs": [
        {
          "output_type": "execute_result",
          "data": {
            "text/plain": [
              "1225.1656408350887"
            ]
          },
          "metadata": {},
          "execution_count": 12
        }
      ]
    },
    {
      "cell_type": "code",
      "source": [
        "def d1U(T):\n",
        "  return -10400/(T - 20)**2 + 408331.0/(330 - 2*T)**2\n",
        "d1U(55.08)"
      ],
      "metadata": {
        "colab": {
          "base_uri": "https://localhost:8080/"
        },
        "id": "_Yo7YWrP1gpQ",
        "outputId": "4a66ddf9-c487-42f9-da99-ef1ed42c9ce5"
      },
      "execution_count": 14,
      "outputs": [
        {
          "output_type": "execute_result",
          "data": {
            "text/plain": [
              "-0.0022423688924249063"
            ]
          },
          "metadata": {},
          "execution_count": 14
        }
      ]
    }
  ]
}