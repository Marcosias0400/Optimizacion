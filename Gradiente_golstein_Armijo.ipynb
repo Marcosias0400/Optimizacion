{
  "nbformat": 4,
  "nbformat_minor": 0,
  "metadata": {
    "colab": {
      "provenance": [],
      "authorship_tag": "ABX9TyNbyQFRscZfrLk/T+IAwPNL",
      "include_colab_link": true
    },
    "kernelspec": {
      "name": "python3",
      "display_name": "Python 3"
    },
    "language_info": {
      "name": "python"
    }
  },
  "cells": [
    {
      "cell_type": "markdown",
      "metadata": {
        "id": "view-in-github",
        "colab_type": "text"
      },
      "source": [
        "<a href=\"https://colab.research.google.com/github/Marcosias0400/Optimizacion/blob/main/Gradiente_golstein_Armijo.ipynb\" target=\"_parent\"><img src=\"https://colab.research.google.com/assets/colab-badge.svg\" alt=\"Open In Colab\"/></a>"
      ]
    },
    {
      "cell_type": "code",
      "execution_count": 1,
      "metadata": {
        "id": "FK9WiD_NbsNd"
      },
      "outputs": [],
      "source": [
        "%matplotlib inline\n",
        "import matplotlib.pyplot as plt\n",
        "import numpy as np"
      ]
    },
    {
      "cell_type": "code",
      "source": [
        "# Condiciones iniciales\n",
        "alpha=1e-4\n",
        "beta=1e-1\n",
        "# Tolerancia\n",
        "epsilon=1e-3\n",
        "# maxima cantidad de iteraciones\n",
        "N=50\n",
        "# Punto inicial\n",
        "x_0=np.array([3,-2])"
      ],
      "metadata": {
        "id": "ICDrzqVfcQ3b"
      },
      "execution_count": 2,
      "outputs": []
    },
    {
      "cell_type": "code",
      "source": [
        "# funcion de prueba\n",
        "def f(x:tuple,C:np.float64)->np.float64:\n",
        "  return np.float64(2*x[0]**2+2*x[0]*x[1]+3*x[1]**2/2-x[0]+x[1]+C)"
      ],
      "metadata": {
        "id": "82h59HCDhx66"
      },
      "execution_count": 3,
      "outputs": []
    },
    {
      "cell_type": "code",
      "source": [
        "def d1f(x:np.array)->np.array:\n",
        "  return np.array([4*x[0]+2*x[1]-1,3*x[1]+2*x[0]+1])"
      ],
      "metadata": {
        "id": "Y23gj4L2iYHc"
      },
      "execution_count": 4,
      "outputs": []
    },
    {
      "cell_type": "code",
      "source": [
        "alp, bet, k, ep, N=1e-4,1e-1,0,1e-3,50\n",
        "Xk=[3,-2]\n",
        "l=[]\n",
        "while(np.linalg.norm(d1f(Xk)) >= ep and k <= N):\n",
        "    dk = -d1f(Xk)\n",
        "    lam = 1\n",
        "    while(f(Xk + lam*dk,1) > f(Xk,1) + alp*lam*np.dot(d1f(Xk), dk) or bet*np.dot(d1f(Xk), dk) > np.dot(d1f(Xk + lam*dk), dk)):\n",
        "        lam = 0.5*lam\n",
        "    Xk=Xk-lam*d1f(Xk)\n",
        "    k+=1\n",
        "    l.append([k,Xk,np.linalg.norm(d1f(Xk)),f(Xk,1),lam])"
      ],
      "metadata": {
        "id": "DWkZxMa2g8hS"
      },
      "execution_count": 17,
      "outputs": []
    },
    {
      "cell_type": "code",
      "source": [
        "for o in l:\n",
        "  print(\"it: \"+str(o[0])+\"  x:\"+str(o[1])+\" dir:\"+str(o[2])+\" f:\"+str(o[3])+\" lambda:\"+str(o[4]))"
      ],
      "metadata": {
        "colab": {
          "base_uri": "https://localhost:8080/"
        },
        "id": "wUqk5We8n02z",
        "outputId": "ae3b5c10-4e2c-4b22-cd78-48d892f4f9ca"
      },
      "execution_count": 15,
      "outputs": [
        {
          "output_type": "stream",
          "name": "stdout",
          "text": [
            "it: 1  x:[ 1.25 -2.25] dir:3.2882366094914763 f:2.59375 lambda:0.25\n",
            "it: 2  x:[ 1.5   -0.625] dir:4.310234912391667 f:2.0859375 lambda:0.5\n",
            "it: 3  x:[ 0.5625  -1.15625] dir:1.7130587592082183 f:0.61865234375 lambda:0.25\n",
            "it: 4  x:[ 0.828125  -0.8203125] dir:0.6996877791424186 f:0.373870849609375 lambda:0.25\n",
            "it: 5  x:[ 0.66015625 -0.86914062] dir:0.3032631470801441 f:0.32788658142089844 lambda:0.25\n",
            "it: 6  x:[ 0.68457031 -0.79736328] dir:0.1453774911891728 f:0.31731927394866943 lambda:0.25\n",
            "it: 7  x:[ 0.61279297 -0.78588867] dir:0.1788597946155405 f:0.3156062066555023 lambda:0.5\n",
            "it: 8  x:[ 0.64294434 -0.75286865] dir:0.07145371430948781 f:0.31305339001119137 lambda:0.25\n",
            "it: 9  x:[ 0.62643433 -0.75968933] dir:0.0295379771096505 f:0.31261714396532625 lambda:0.25\n",
            "it: 10  x:[ 0.62984467 -0.7531395 ] dir:0.013102470036576669 f:0.31253130660479655 lambda:0.25\n",
            "it: 11  x:[ 0.62656975 -0.75320721] dir:0.006483538760797743 f:0.31251028846736517 lambda:0.25\n",
            "it: 12  x:[ 0.62663746 -0.74996614] dir:0.007429169521871222 f:0.31250547513570837 lambda:0.5\n",
            "it: 13  x:[ 0.62498307 -0.75081027] dir:0.0029874187344444644 f:0.3125010128003609 lambda:0.25\n",
            "it: 14  x:[ 0.62540513 -0.7501941 ] dir:0.0012532327315159682 f:0.31250022750422124 lambda:0.25\n",
            "it: 15  x:[ 0.62509705 -0.75025109] dir:0.0005706717433854275 f:0.3125000646711018 lambda:0.25\n"
          ]
        }
      ]
    }
  ]
}