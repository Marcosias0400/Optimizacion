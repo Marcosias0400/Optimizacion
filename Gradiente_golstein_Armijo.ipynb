{
  "nbformat": 4,
  "nbformat_minor": 0,
  "metadata": {
    "colab": {
      "provenance": [],
      "authorship_tag": "ABX9TyNTQlWKeoFAW+sSl/q30hAm",
      "include_colab_link": true
    },
    "kernelspec": {
      "name": "python3",
      "display_name": "Python 3"
    },
    "language_info": {
      "name": "python"
    }
  },
  "cells": [
    {
      "cell_type": "markdown",
      "metadata": {
        "id": "view-in-github",
        "colab_type": "text"
      },
      "source": [
        "<a href=\"https://colab.research.google.com/github/Marcosias0400/Optimizacion/blob/main/Gradiente_golstein_Armijo.ipynb\" target=\"_parent\"><img src=\"https://colab.research.google.com/assets/colab-badge.svg\" alt=\"Open In Colab\"/></a>"
      ]
    },
    {
      "cell_type": "code",
      "execution_count": 1,
      "metadata": {
        "id": "FK9WiD_NbsNd"
      },
      "outputs": [],
      "source": [
        "%matplotlib inline\n",
        "import matplotlib.pyplot as plt\n",
        "import numpy as np"
      ]
    },
    {
      "cell_type": "code",
      "source": [
        "# Condiciones iniciales\n",
        "alpha=1/10**4\n",
        "beta=1/10\n",
        "# Tolerancia\n",
        "epsilon=1/10**3\n",
        "# maxima cantidad de iteraciones\n",
        "N=50\n",
        "# Punto inicial\n",
        "x_0=np.array([3,-2])"
      ],
      "metadata": {
        "id": "ICDrzqVfcQ3b"
      },
      "execution_count": null,
      "outputs": []
    },
    {
      "cell_type": "code",
      "source": [
        "# funcion de prueba\n",
        "def f(x:tuple,C:np.float64)->np.float64:\n",
        "  return np.float64(2*x[0]**2+2*x[0]*x[1]+3*x[1]**2/2-x[0]+x[1]+C)"
      ],
      "metadata": {
        "id": "82h59HCDhx66"
      },
      "execution_count": null,
      "outputs": []
    },
    {
      "cell_type": "code",
      "source": [
        "def d1f(x:np.array)->np.array:\n",
        "  return np.array([4*x[0]+2*x[1]-1,3*x[1]+2*x[0]+1])"
      ],
      "metadata": {
        "id": "Y23gj4L2iYHc"
      },
      "execution_count": null,
      "outputs": []
    },
    {
      "cell_type": "code",
      "source": [
        "def des_grad(alpha:np.float64,beta:np.float64,tol:np.float64,MAX_IT:np.int32,x_0:np.array)->list:\n",
        "  k=0\n",
        "  x=[x_0]\n",
        "  d=[]\n",
        "  reg=[]\n",
        "  c=1\n",
        "  lamb=1\n",
        "  while np.linalg.norm(d1f(x[k]))>=tol and k<=MAX_IT:\n",
        "    d.append(d1f(x[k]))\n",
        "    reg.append([k,x[k],d[k],f(x[k],c),lamb])\n",
        "    while (f(x[k]+lamb*d[k],c)>f(x[k],c)+alpha*beta*np.dot(d1f(x[k]),d[k])) and (beta*alpha*np.dot(d1f(x[k]),d[k])>np.dot(d1f(x[k]+lamb*d[k]),d[k])):\n",
        "      lamb*=1/2\n",
        "    x.append(x[k]+lamb*d[k])\n",
        "    k+=1\n",
        "  return reg\n",
        "l=des_grad(alpha,beta,epsilon,N,x_0)"
      ],
      "metadata": {
        "colab": {
          "base_uri": "https://localhost:8080/"
        },
        "id": "DWkZxMa2g8hS",
        "outputId": "11206001-b10b-4e2b-9f1e-47e9a7d645c7"
      },
      "execution_count": null,
      "outputs": [
        {
          "output_type": "stream",
          "name": "stderr",
          "text": [
            "<ipython-input-22-81db9fe4c4f3>:3: RuntimeWarning: overflow encountered in long_scalars\n",
            "  return np.float64(2*x[0]**2+2*x[0]*x[1]+3*x[1]**2/2-x[0]+x[1]+C)\n"
          ]
        }
      ]
    },
    {
      "cell_type": "code",
      "source": [
        "for o in l:\n",
        "  print(\"it: \"+str(o[0])+\"  x:\"+str(o[1])+\" dir:\"+str(o[2])+\" f:\"+str(o[3])+\" lambda:\"+str(o[4]))"
      ],
      "metadata": {
        "colab": {
          "base_uri": "https://localhost:8080/"
        },
        "id": "wUqk5We8n02z",
        "outputId": "dad7ca75-1000-45ba-cfe8-4afb9a5d9223"
      },
      "execution_count": null,
      "outputs": [
        {
          "output_type": "stream",
          "name": "stdout",
          "text": [
            "it: 0  x:[ 3 -2] dir:[7 1] f:8.0 lambda:1\n",
            "it: 1  x:[10 -1] dir:[37 18] f:171.5 lambda:1\n",
            "it: 2  x:[47 17] dir:[221 146] f:6420.5 lambda:1\n",
            "it: 3  x:[268 163] dir:[1397 1026] f:270765.5 lambda:1\n",
            "it: 4  x:[1665 1189] dir:[9037 6898] f:11623926.5 lambda:1\n",
            "it: 5  x:[10702  8087] dir:[58981 45666] f:500256495.5 lambda:1\n",
            "it: 6  x:[69683 53753] dir:[386237 300626] f:21536843160.5 lambda:1\n",
            "it: 7  x:[455920 354379] dir:[2532437 1974978] f:927239652081.5 lambda:1\n",
            "it: 8  x:[2988357 2329357] dir:[16612141 12964786] f:39921311102970.5 lambda:1\n",
            "it: 9  x:[19600498 15294143] dir:[108990277  85083426] f:1718770893112755.5 lambda:1\n",
            "it: 10  x:[128590775 100377569] dir:[715118237 558314258] f:7.399991812016464e+16 lambda:1\n",
            "it: 11  x:[843709012 658691827] dir:[4692219701 3663493506] f:3.1859906392512015e+18 lambda:1\n",
            "it: 12  x:[5535928713 4322185333] dir:[30788085517 24038413426] f:-1.1810182682748938e+18 lambda:1\n",
            "it: 13  x:[36324014230 28360598759] dir:[202017254437 157729824738] f:-6.486527329428531e+18 lambda:1\n",
            "it: 14  x:[1.37332641e+11 1.07225511e+11] dir:[7.63781588e+11 5.96341816e+11] f:8.441759951715322e+22 lambda:1\n",
            "it: 15  x:[9.01114229e+11 7.03567327e+11] dir:[5.01159157e+12 3.91293044e+12] f:3.634513245781179e+24 lambda:1\n",
            "it: 16  x:[5.91270580e+12 4.61649777e+12] dir:[3.28838187e+13 2.56749049e+13] f:1.564802435668865e+26 lambda:1\n",
            "it: 17  x:[3.87965245e+13 3.02914027e+13] dir:[2.15768904e+14 1.68467257e+14] f:6.737096543857459e+27 lambda:1\n",
            "it: 18  x:[2.54565428e+14 1.98758660e+14] dir:[1.41577903e+15 1.10540684e+15] f:2.9005878829589256e+29 lambda:1\n",
            "it: 19  x:[1.67034446e+15 1.30416550e+15] dir:[9.28970883e+15 7.25318541e+15] f:1.2488183911271223e+31 lambda:1\n",
            "it: 20  x:[1.09600533e+16 8.55735090e+15] dir:[6.09549150e+16 4.75921593e+16] f:5.376659618485415e+32 lambda:1\n",
            "it: 21  x:[7.19149683e+16 5.61495102e+16] dir:[3.99958893e+17 3.12278467e+17] f:2.31486570492931e+34 lambda:1\n",
            "it: 22  x:[4.71873862e+17 3.68427977e+17] dir:[2.62435140e+18 2.04903166e+18] f:9.966417091821355e+35 lambda:1\n",
            "it: 23  x:[3.09622526e+18 2.41745963e+18] dir:[1.72198203e+19 1.34448294e+19] f:4.29093875453056e+37 lambda:1\n",
            "it: 24  x:[2.03160456e+19 1.58622891e+19] dir:[1.12988760e+20 8.82189583e+19] f:1.8474197121693476e+39 lambda:1\n",
            "it: 25  x:[1.33304806e+20 1.04081247e+20] dir:[7.41381719e+20 5.78853354e+20] f:7.953876268469979e+40 lambda:1\n",
            "it: 26  x:[8.74686525e+20 6.82934602e+20] dir:[4.86461530e+21 3.79817685e+21] f:3.4244599252349374e+42 lambda:1\n",
            "it: 27  x:[5.73930183e+21 4.48111146e+21] dir:[3.19194302e+22 2.49219380e+22] f:1.4743661308922878e+44 lambda:1\n",
            "it: 28  x:[3.76587320e+22 2.94030495e+22] dir:[2.09441027e+23 1.63526613e+23] f:6.347732300512066e+45 lambda:1\n",
            "it: 29  x:[2.47099759e+23 1.92929662e+23] dir:[1.37425836e+24 1.07298850e+24] f:2.7329510977424867e+47 lambda:1\n",
            "it: 30  x:[1.62135812e+24 1.26591817e+24] dir:[9.01726881e+24 7.04047074e+24] f:1.1766440910007097e+49 lambda:1\n",
            "it: 31  x:[1.06386269e+25 8.30638891e+24] dir:[5.91672855e+25 4.61964206e+25] f:5.065920564881401e+50 lambda:1\n",
            "it: 32  x:[6.98059125e+25 5.45028095e+25] dir:[3.88229269e+26 3.03120253e+26] f:2.181080189495705e+52 lambda:1\n",
            "it: 33  x:[4.58035181e+26 3.57623063e+26] dir:[2.54738685e+27 1.98893955e+27] f:9.390417263919316e+53 lambda:1\n",
            "it: 34  x:[3.00542203e+27 2.34656261e+27] dir:[1.67148134e+28 1.30505319e+28] f:4.0429479308095636e+55 lambda:1\n",
            "it: 35  x:[1.97202354e+28 1.53970945e+28] dir:[1.09675131e+29 8.56317544e+28] f:1.740649804140352e+57 lambda:1\n",
            "it: 36  x:[1.29395366e+29 1.01028849e+29] dir:[7.19639162e+29 5.61877279e+29] f:7.494189370000476e+58 lambda:1\n",
            "it: 37  x:[8.49034528e+29 6.62906128e+29] dir:[4.72195037e+30 3.68678744e+30] f:3.226546441440304e+60 lambda:1\n",
            "it: 38  x:[5.57098489e+30 4.34969357e+30] dir:[3.09833267e+31 2.41910505e+31] f:1.3891565084337366e+62 lambda:1\n",
            "it: 39  x:[3.65543116e+31 2.85407441e+31] dir:[2.03298735e+32 1.58730855e+32] f:5.98087100231659e+63 lambda:1\n",
            "it: 40  x:[2.39853046e+32 1.87271599e+32] dir:[1.33395538e+33 1.04152089e+33] f:2.575002724976093e+65 lambda:1\n",
            "it: 41  x:[1.57380843e+33 1.22879249e+33] dir:[8.75281870e+33 6.83399433e+33] f:1.1086410375789807e+67 lambda:1\n",
            "it: 42  x:[1.03266271e+34 8.06278682e+33] dir:[5.74320821e+34 4.48416147e+34] f:4.773140386543126e+68 lambda:1\n",
            "it: 43  x:[6.77587093e+34 5.29044015e+34] dir:[3.76843640e+35 2.94230623e+35] f:2.0550266837859122e+70 lambda:1\n",
            "it: 44  x:[4.44602349e+35 3.47135025e+35] dir:[2.47267945e+36 1.93060977e+36] f:8.84770681159593e+71 lambda:1\n",
            "it: 45  x:[2.9172818e+36 2.2777448e+36] dir:[1.62246168e+37 1.26677980e+37] f:3.809289506632812e+73 lambda:1\n",
            "it: 46  x:[1.91418986e+37 1.49455428e+37] dir:[1.06458680e+38 8.31204255e+37] f:1.640050563873222e+75 lambda:1\n",
            "it: 47  x:[1.25600578e+38 9.80659683e+37] dir:[6.98534250e+38 5.45399062e+38] f:7.061069649280788e+76 lambda:1\n",
            "it: 48  x:[8.24134829e+38 6.43465030e+38] dir:[4.58346938e+39 3.57866475e+39] f:3.040071183796041e+78 lambda:1\n",
            "it: 49  x:[5.40760420e+39 4.22212978e+39] dir:[3.00746764e+40 2.34815977e+40] f:1.3088714970384718e+80 lambda:1\n",
            "it: 50  x:[3.54822806e+40 2.77037275e+40] dir:[1.97336577e+41 1.54075744e+41] f:5.635212112436727e+81 lambda:1\n"
          ]
        }
      ]
    }
  ]
}