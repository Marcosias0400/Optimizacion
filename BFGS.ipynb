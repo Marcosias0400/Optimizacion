{
  "nbformat": 4,
  "nbformat_minor": 0,
  "metadata": {
    "colab": {
      "provenance": [],
      "authorship_tag": "ABX9TyM5T+c/XczktDGiTOXFq68+",
      "include_colab_link": true
    },
    "kernelspec": {
      "name": "python3",
      "display_name": "Python 3"
    },
    "language_info": {
      "name": "python"
    }
  },
  "cells": [
    {
      "cell_type": "markdown",
      "metadata": {
        "id": "view-in-github",
        "colab_type": "text"
      },
      "source": [
        "<a href=\"https://colab.research.google.com/github/Marcosias0400/Optimizacion/blob/main/BFGS.ipynb\" target=\"_parent\"><img src=\"https://colab.research.google.com/assets/colab-badge.svg\" alt=\"Open In Colab\"/></a>"
      ]
    },
    {
      "cell_type": "code",
      "execution_count": 4,
      "metadata": {
        "id": "d0uZ3AVTyIzD"
      },
      "outputs": [],
      "source": [
        "import numpy as np"
      ]
    },
    {
      "cell_type": "code",
      "source": [
        "# Funcion de prueba\n",
        "def f(x):\n",
        "  return 100*(x[1]-x[0])**2+(1-x[0]**2)"
      ],
      "metadata": {
        "id": "5m-WqQ04yR2V"
      },
      "execution_count": 5,
      "outputs": []
    },
    {
      "cell_type": "code",
      "source": [
        "# Gradiente de la funcion\n",
        "def d1f(x):\n",
        "  return np.array([198*x[0]-200*x[1],200*(x[1]-x[0])])"
      ],
      "metadata": {
        "id": "CKDAKRygyWe8"
      },
      "execution_count": 6,
      "outputs": []
    },
    {
      "cell_type": "code",
      "source": [
        "# Matriz Hessiana de la funcion de prueba\n",
        "def d2f(x):\n",
        "  return np.array([[198,-200],[-200,200]])"
      ],
      "metadata": {
        "id": "NjDu5HFmyZ14"
      },
      "execution_count": 7,
      "outputs": []
    },
    {
      "cell_type": "code",
      "source": [
        "# Condiciones iniciales\n",
        "x_0=np.array([-1.2,1.3])\n",
        "N=250\n",
        "k=0\n",
        "tol=1e-3\n",
        "# Tamanyo de paso inicial\n",
        "a=np.float64(1)"
      ],
      "metadata": {
        "id": "BGzNE-apydC0"
      },
      "execution_count": 8,
      "outputs": []
    },
    {
      "cell_type": "code",
      "source": [
        "# En BFGS la matriz inicial se usara la matriz Hessiana como matriz inicial\n",
        "A=d2f(x_0)\n",
        "condicion=np.linalg.cond(A)\n",
        "pos=np.linalg.det(A)\n",
        "dim=len(A)\n",
        "# Si la matriz no es dafinida positiva, entonces hay que acondicionar:\n",
        "while pos<=0:\n",
        "  A=A+0.01*np.identity(dim)\n",
        "  pos=np.linalg.det(A)\n",
        "print(A)"
      ],
      "metadata": {
        "colab": {
          "base_uri": "https://localhost:8080/"
        },
        "id": "PmNVG4Kgyfxg",
        "outputId": "57961bef-cf9c-41f1-80ac-ff9dc09427ce"
      },
      "execution_count": 9,
      "outputs": [
        {
          "output_type": "stream",
          "name": "stdout",
          "text": [
            "[[ 199.01 -200.  ]\n",
            " [-200.    201.01]]\n"
          ]
        }
      ]
    },
    {
      "cell_type": "code",
      "source": [
        "# Revisa si la matriz esta bien condicionada\n",
        "condicion=np.linalg.cond(A)\n",
        "if condicion<=1+tol and condicion>=1-tol:\n",
        "  print('Esta bien condicionada')\n",
        "  dk=np.dot(np.linalg.inv(A),-1*np.array(d1f(x_0)))\n",
        "  xk=x_0+a*dk\n",
        "  reg=[[0,x_0,np.linalg.norm(dk),f(x_0),a,A]]\n",
        "  while np.linalg.norm(d1f(xk))>tol and k<N:\n",
        "    dk=np.dot(A,np.array(d1f(xk)))\n",
        "    xk=xk+a*dk\n",
        "    yk=d1f(xk)-d1f(reg[-1][1])\n",
        "    A=np.dot(yk,yk)/np.dot(yk,a*dk)-np.dot(np.dot(A,a*dk),np.dot(a*dk,A))/np.dot(np.dot(a*dk,A),dk)\n",
        "    a=np.dot(d1f(xk),d1f(xk))/np.dot(np.dot(xk,A),xk)\n",
        "    reg.append([k,xk,np.linalg.norm(dk),f(xk),a,A])\n",
        "    k+=1\n",
        "else:\n",
        "  print('Usar la direccion de descenso como el gradiente')\n",
        "  dk=-d1f(x_0)\n",
        "  xk=x_0+a*dk\n",
        "  reg=[[0,x_0,np.linalg.norm(dk),f(x_0),a,A]]\n",
        "  while np.linalg.norm(d1f(xk))>tol and k<N:\n",
        "    dk=-d1f(xk)\n",
        "    a=np.dot(dk,dk)/np.dot(np.dot(dk,A),dk)\n",
        "    xk=xk+a*dk\n",
        "    yk=d1f(xk)-d1f(reg[-1][1])\n",
        "    A=np.dot(yk,yk)/np.dot(yk,a*dk)-np.dot(np.dot(A,a*dk),np.dot(a*dk,A))/np.dot(np.dot(a*dk,A),dk)\n",
        "    k+=1\n",
        "    reg.append([k,xk,np.linalg.norm(dk),f(xk),a,A])"
      ],
      "metadata": {
        "id": "G-ASfsHbykIm",
        "colab": {
          "base_uri": "https://localhost:8080/"
        },
        "outputId": "5c92a288-0296-4a7b-b9e8-f19d29da1600"
      },
      "execution_count": 15,
      "outputs": [
        {
          "output_type": "stream",
          "name": "stdout",
          "text": [
            "Usar la direccion de descenso como el gradiente\n"
          ]
        }
      ]
    },
    {
      "cell_type": "code",
      "source": [
        "for o in reg:\n",
        "  print(\"it: \"+str(o[0])+\"  x:\"+str(o[1])+\" dir:\"+str(o[2])+\" f:\"+str(o[3])+\" alfa:\"+str(o[4])+\" A=\"+str(o[5]))"
      ],
      "metadata": {
        "colab": {
          "base_uri": "https://localhost:8080/"
        },
        "id": "8gzXpyPc1Tn0",
        "outputId": "23111638-0aa5-428e-d1ad-599284e8b685"
      },
      "execution_count": 16,
      "outputs": [
        {
          "output_type": "stream",
          "name": "stdout",
          "text": [
            "it: 0  x:[-1.2  1.3] dir:705.4117662755563 f:624.56 alfa:0.0025174069076537367 A=[[ 199.01 -200.  ]\n",
            " [-200.    201.01]]\n",
            "it: 1  x:[0.04724015 0.04698149] dir:3.140952700402177 f:0.997775058620627 alfa:0.002501047153898025 A=-89818.53991416589\n",
            "it: 2  x:[0.04723967 0.04698092] dir:0.06710894689342146 f:0.9977751087626162 alfa:-1.1133558850496112e-05 A=541.3005230887743\n",
            "it: 3  x:[0.04731861 0.04707652] dir:0.06711102423971722 f:0.9977668098263307 alfa:0.0018474026115729398 A=539.5838677070805\n",
            "it: 4  x:[0.04740427 0.04716625] dir:0.06693666130426544 f:0.9977585004960299 alfa:0.0018532800178949422 A=-145.02176397792306\n",
            "it: 5  x:[0.04707876 0.04683801] dir:0.06704034653908901 f:0.9977893865571473 alfa:-0.006895516731903991 A=-9.256394407699693\n",
            "it: 6  x:[0.04210848 0.04163613] dir:0.06659667631478183 f:0.9982491878489771 alfa:-0.1080334259707188 A=-138.3075529968817\n",
            "it: 7  x:[0.04218263 0.04095307] dir:0.09502636214441659 f:0.9983718062867881 alfa:-0.007230263122524813 A=398.64683973068753\n",
            "it: 8  x:[0.04177739 0.04156994] dir:0.29422606548114405 f:0.9982589534113697 alfa:0.0025084859588390728 A=398.0445130749568\n",
            "it: 9  x:[0.04188307 0.04167417] dir:0.05908353969786853 f:0.9982501724150356 alfa:0.0025122818357043585 A=-5.041927501235573\n",
            "it: 10  x:[0.03355543 0.0333879 ] dir:0.05923178414969783 f:0.9988768398053298 alfa:-0.19833684632612034 A=-2.002517369400654\n",
            "it: 11  x:[0.01677443 0.01665565] dir:0.0474545953699627 f:0.9997200293649783 alfa:-0.49937144879761824 A=-2.176513429326055\n",
            "it: 12  x:[0.01227512 0.00574093] dir:0.025695307503104083 f:1.0041188843925188 alfa:-0.4594504157549096 A=403.8062459429368\n",
            "it: 13  x:[0.00909961 0.00897723] dir:1.8308704646948866 f:0.9999186949098787 alfa:0.002476435196451403 A=398.0025489760396\n",
            "it: 14  x:[0.00908384 0.00903873] dir:0.025269913882053085 f:0.9999176873800156 alfa:0.002512546722559311 A=398.3507087855281\n",
            "it: 15  x:[0.0091068  0.00906138] dir:0.012846781788030543 f:0.9999172725546693 alfa:0.002510350748587219 A=-4.9119916708310205\n",
            "it: 16  x:[0.00724818 0.00721201] dir:0.012878995508612719 f:0.999947594730688 alfa:-0.20358340710109915 A=-2.002507678731358\n",
            "it: 17  x:[0.00362218 0.0035989 ] dir:0.010250493533228261 f:0.9999869339976396 alfa:-0.4993738653893835 A=-2.084648504405133\n",
            "it: 18  x:[0.00238038 0.0013656 ] dir:0.0053269569043565175 f:1.000097310914741 alfa:-0.4796971757525886 A=410.4960059535093\n",
            "it: 19  x:[0.00189756 0.00186002] dir:0.2836757306379432 f:0.9999965402151861 alfa:0.0024360772955078517 A=398.00258817526196\n",
            "it: 20  x:[0.00188823 0.00187888] dir:0.008377088572068706 f:0.9999964433183723 alfa:0.002512546475098916 A=398.1155779126126\n",
            "it: 21  x:[0.00189302 0.00188358] dir:0.002670495403703445 f:0.9999964253830663 alfa:0.0025118333857800023 A=-11.093295180718739\n",
            "it: 22  x:[0.00172195 0.00171336] dir:0.002677145278515401 f:0.9999970422657328 alfa:-0.09014454079776948 A=-2.002543878910036\n",
            "it: 23  x:[0.0008605  0.00085505] dir:0.002435212479563194 f:0.9999992625148274 alfa:-0.4993648381598957 A=-2.0750118325060156\n",
            "it: 24  x:[0.00055691 0.00032925] dir:0.0012598485686581274 f:1.0000048727612467 alfa:-0.481924962708424 A=412.21607044553826\n",
            "it: 25  x:[0.00044915 0.0004397 ] dir:0.06360925244167587 f:0.9999998071907095 alfa:0.0024259122137551877 A=398.0025981335654\n",
            "it: 26  x:[0.00044666 0.00044445] dir:0.0021340361855869353 f:0.9999998009825917 alfa:0.0025125464122332454 A=398.09850858340883\n"
          ]
        }
      ]
    }
  ]
}