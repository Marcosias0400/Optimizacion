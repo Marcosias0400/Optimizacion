{
  "nbformat": 4,
  "nbformat_minor": 0,
  "metadata": {
    "colab": {
      "provenance": [],
      "authorship_tag": "ABX9TyPy4GMw+VUDEHOcrtbMFbw0",
      "include_colab_link": true
    },
    "kernelspec": {
      "name": "python3",
      "display_name": "Python 3"
    },
    "language_info": {
      "name": "python"
    }
  },
  "cells": [
    {
      "cell_type": "markdown",
      "metadata": {
        "id": "view-in-github",
        "colab_type": "text"
      },
      "source": [
        "<a href=\"https://colab.research.google.com/github/Marcosias0400/Optimizacion/blob/main/Cuasi_newtonEstacionario.ipynb\" target=\"_parent\"><img src=\"https://colab.research.google.com/assets/colab-badge.svg\" alt=\"Open In Colab\"/></a>"
      ]
    },
    {
      "cell_type": "code",
      "execution_count": null,
      "metadata": {
        "id": "d0uZ3AVTyIzD"
      },
      "outputs": [],
      "source": [
        "import numpy as np"
      ]
    },
    {
      "cell_type": "code",
      "source": [
        "# Funcion de prueba\n",
        "def f(x):\n",
        "  return 100*(x[1]-x[0])**2+(1-x[0]**2)"
      ],
      "metadata": {
        "id": "5m-WqQ04yR2V"
      },
      "execution_count": null,
      "outputs": []
    },
    {
      "cell_type": "code",
      "source": [
        "# Gradiente de la funcion\n",
        "def d1f(x):\n",
        "  return np.array([198*x[0]-200*x[1],200*(x[1]-x[0])])"
      ],
      "metadata": {
        "id": "CKDAKRygyWe8"
      },
      "execution_count": null,
      "outputs": []
    },
    {
      "cell_type": "code",
      "source": [
        "# Matriz Hessiana de la funcion de prueba\n",
        "def d2f(x):\n",
        "  return np.array([[198,-200],[-200,200]])"
      ],
      "metadata": {
        "id": "NjDu5HFmyZ14"
      },
      "execution_count": null,
      "outputs": []
    },
    {
      "cell_type": "code",
      "source": [
        "# Condiciones iniciales\n",
        "x_0=np.array([-1.2,1.3])\n",
        "N=250\n",
        "k=0\n",
        "tol=1e-3\n",
        "# Tamanyo de paso inicial\n",
        "a=np.float64(1)"
      ],
      "metadata": {
        "id": "BGzNE-apydC0"
      },
      "execution_count": null,
      "outputs": []
    },
    {
      "cell_type": "code",
      "source": [
        "# En newton Estacionario se usa el punto inicial como referencia\n",
        "A=d2f(x_0)\n",
        "condicion=np.linalg.cond(A)\n",
        "pos=np.linalg.det(A)\n",
        "dim=len(A)\n",
        "# Si la matriz no es dafinida positiva, entonces hay que acondicionar:\n",
        "while pos<=0:\n",
        "  A=A+0.01*np.identity(dim)\n",
        "  pos=np.linalg.det(A)\n",
        "print(A)"
      ],
      "metadata": {
        "colab": {
          "base_uri": "https://localhost:8080/"
        },
        "id": "PmNVG4Kgyfxg",
        "outputId": "99d2e020-5bfd-4989-f8cd-f6b872410cab"
      },
      "execution_count": null,
      "outputs": [
        {
          "output_type": "stream",
          "name": "stdout",
          "text": [
            "[[ 199.01 -200.  ]\n",
            " [-200.    201.01]]\n"
          ]
        }
      ]
    },
    {
      "cell_type": "code",
      "source": [
        "# Revisa si la matriz esta bien condicionada\n",
        "condicion=np.linalg.cond(A)\n",
        "if condicion<=tol and condicion>=-tol:\n",
        "  print('Esta bien condicionada')\n",
        "  dk=np.dot(np.linalg.inv(A),-1*np.array(d1f(x_0)))\n",
        "  xk=x_0+a*dk\n",
        "  reg=[]\n",
        "  while np.linalg.norm(d1f(xk))>tol and k<N:\n",
        "    dk=np.dot(A,np.array(d1f(xk)))\n",
        "    xk=[xk[0]+a*dk[0],xk[1]+a*dk[1]]\n",
        "    l=np.dot(d1f(xk),d1f(xk))/np.dot(np.dot(xk,A),xk)\n",
        "    reg.append([k,xk,np.linalg.norm(dk),f(xk),a,A])\n",
        "    k+=1\n",
        "else:\n",
        "  print('Usar la direccion de descenso como el gradiente')\n",
        "  dk=-d1f(x_0)\n",
        "  xk=x_0+a*dk\n",
        "  reg=[]\n",
        "  while np.linalg.norm(d1f(xk))>tol and k<N:\n",
        "    dk=-d1f(xk)\n",
        "    a=np.dot(dk,dk)/np.dot(np.dot(dk,A),dk)\n",
        "    xk=xk+a*dk\n",
        "    k+=1\n",
        "    reg.append([k,xk,np.linalg.norm(dk),f(xk),a,A])"
      ],
      "metadata": {
        "id": "G-ASfsHbykIm"
      },
      "execution_count": null,
      "outputs": []
    }
  ]
}