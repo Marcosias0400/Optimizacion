{
  "nbformat": 4,
  "nbformat_minor": 0,
  "metadata": {
    "colab": {
      "provenance": [],
      "authorship_tag": "ABX9TyNnQL582lzqUs4UuUNKWPdh",
      "include_colab_link": true
    },
    "kernelspec": {
      "name": "python3",
      "display_name": "Python 3"
    },
    "language_info": {
      "name": "python"
    }
  },
  "cells": [
    {
      "cell_type": "markdown",
      "metadata": {
        "id": "view-in-github",
        "colab_type": "text"
      },
      "source": [
        "<a href=\"https://colab.research.google.com/github/Marcosias0400/Optimizacion/blob/main/Funciones_optimizacion.ipynb\" target=\"_parent\"><img src=\"https://colab.research.google.com/assets/colab-badge.svg\" alt=\"Open In Colab\"/></a>"
      ]
    },
    {
      "cell_type": "markdown",
      "source": [
        "# Funciones a Optimizar\n",
        "\n",
        "Se van a optimizar las siguientes funciones; seguiran la siguiente estructura:\n",
        "\n",
        "*Grafica\n",
        "\n",
        "*Punto mínimo y valor del mínimo\n",
        "\n",
        "Funciones a Optimizar:\n",
        "\n",
        "->f1(x)= -x^6/60-x^5/50+x^4/2+2x^3/3-3.2x^2-6.4x\n",
        "\n",
        "->f2(x)=-(x^6+x^5-10x^2-10x-12)/(x^2+6)\n",
        "\n",
        "->f3(x)=5-(x4+2x3-3x2+13)^(1/2)\n",
        "\n",
        "->f4(x)= sin^2(3x+45)+0.9sin^33 (9x)-sin (15x+50)cos (2x-30)\n",
        "\n",
        "->f5(x)=sin(2πx)/x-cos(3πx)/x\n",
        "\n",
        "->f6(x)= (2x-1)/x^2\n",
        "\n",
        "->f7(x)= x^4 (log |x| - 1)\n",
        "\n",
        "->f8(x)=e^(-x)(log |x|+x/|x|)"
      ],
      "metadata": {
        "id": "VNAw7s4MWo-f"
      }
    },
    {
      "cell_type": "code",
      "execution_count": 2,
      "metadata": {
        "id": "kzZidCPYWFPY"
      },
      "outputs": [],
      "source": [
        "%matplotlib inline\n",
        "# Importar las bibliotecas necesarias\n",
        "import matplotlib.pyplot as plt\n",
        "import numpy as np\n",
        "import math as m"
      ]
    },
    {
      "cell_type": "code",
      "source": [
        "# Definicion de las funciones de prueba\n",
        "def f1(x):\n",
        "  return -x**6/60-x**5/50+x**4/2+2*x**3/3-3.2*x**2-6.4*x\n",
        "def f2(x):\n",
        "  return -(x**6+x**5-10*x**2-10*x-12)/(x**2+6)\n",
        "def f3(x):\n",
        "  return 5-m.sqrt(x**4+2*x**3-3*x**2+13)\n",
        "def f4(x):\n",
        "  return (m.sin(3*x+45))**2+0.9*(m.sin(9*x))**3-m.sin(15*x+50)*m.cos(2*x-30)\n",
        "def f5(x):\n",
        "  return m.sin(2*m.pi*x)/x-m.cos(3*m.pi*x)/x\n",
        "def f6(x):\n",
        "  return (2*x-1)/x**2\n",
        "def f7(x):\n",
        "  return  (m.log(abs(x))-1)*x**4\n",
        "def f8(x):\n",
        "  return m.exp(-x)(m.log(abs(x))+x/abs(x))"
      ],
      "metadata": {
        "id": "8ma0D5BOZ3-4"
      },
      "execution_count": 3,
      "outputs": []
    },
    {
      "cell_type": "code",
      "source": [
        "# Funciones de graficacion\n",
        "def plotPuntos(a,b,f):\n",
        "  # linea de puntos de la funcion f\n",
        "  #   a es el limite inferior\n",
        "  #   b es el limite inferior\n",
        "  X=np.linspace(a,b,100)\n",
        "  F=f(X)\n",
        "  # Retornan los valores de la funcion y una linea de R con 100 particion\n",
        "  return X,F\n",
        "def GraficarFuncionObjetivo(a,b,f):\n",
        "  # Lineas de puntos de x y f(x)\n",
        "  X,F=plotPuntos(a,b,f)\n",
        "  # Crea el objeto grafica, color azul\n",
        "  plt.plot(X,F,'b')\n",
        "  # Nombre del eje x\n",
        "  plt.xlabel('x')\n",
        "  # Nombre del eje y\n",
        "  plt.ylabel('f(x)')\n",
        "  # Grafica una malla\n",
        "  plt.grid()\n",
        "  # Muestra la grafica\n",
        "  plt.show()"
      ],
      "metadata": {
        "id": "Zla1lblvccnX"
      },
      "execution_count": 5,
      "outputs": []
    },
    {
      "cell_type": "code",
      "source": [
        "# Primera derivada en un punto\n",
        "def d1f(f,x):\n",
        "  # Definida con diferenciacion numerica\n",
        "  h=1e-6\n",
        "  return (f(x+h)-f(x-h))/(2*h)\n",
        "def d2f(f,x):\n",
        "  # Definida con diferenciacion numerica\n",
        "  h=1e-6\n",
        "  return (f(x+h)-2*f(x)+f(x-h))/h**2"
      ],
      "metadata": {
        "id": "BVXSlJAPfKbP"
      },
      "execution_count": 7,
      "outputs": []
    },
    {
      "cell_type": "code",
      "source": [
        "# definicion de las rutinas de optimizacion\n",
        "# Metodo de la biseccion\n",
        "def biseccion(a,b,f):\n",
        "  # Tolerancia del metodo\n",
        "  tol=0.001\n",
        "  paso=True\n",
        "  # contador de las iteraciones\n",
        "  cont=0\n",
        "  # registro de las iteraciones\n",
        "  registro=[]\n",
        "  while(paso):\n",
        "    # bisecta el dominio de busqueda\n",
        "    c=(a+b)/2\n",
        "    # Primera derivada en a\n",
        "    df_a=d1f(a)\n",
        "    # Primera derivada en c\n",
        "    df_c=d1f(c)\n",
        "    if df_a*df_c<0:\n",
        "      b=c\n",
        "    else:\n",
        "      a=c\n",
        "    # Condicion de finalizacion\n",
        "    if abs(b-a)<tol:\n",
        "      paso=False\n",
        "    cont+=1\n",
        "    registro.append([cont,a,f(a)])\n",
        "  return registro"
      ],
      "metadata": {
        "id": "y5jESioEsjOv"
      },
      "execution_count": 10,
      "outputs": []
    },
    {
      "cell_type": "code",
      "source": [
        "# Metodo de newton Rapson\n",
        "def newtonRaphson(a,b,f):\n",
        "  # Punto inicial\n",
        "  x=b\n",
        "  # Tolerancia del metodo\n",
        "  tol=0.001\n",
        "  # contador de iteraciones\n",
        "  cont=0\n",
        "  # Registro de convergencia del metodo\n",
        "  registro=[]\n",
        "  # Bandera de ruptura\n",
        "  paso=True\n",
        "  while paso:\n",
        "    # Calculo de derivadas en un punto x_i\n",
        "    d1f_x=d1f(x,f)\n",
        "    d2f_x=d2f(x,f)\n",
        "    xn=x\n",
        "    x=xn-d1f_x/d2f_x\n",
        "    f_x=f(x)\n",
        "    cont+=1\n",
        "    registro.append([cont,x,f_x])\n",
        "    # si la tolerancia es menor se ropr\n",
        "    if abs(x-xn)<tol:\n",
        "      paso=False\n",
        "  return registro"
      ],
      "metadata": {
        "id": "R7NAewvK2NDB"
      },
      "execution_count": null,
      "outputs": []
    },
    {
      "cell_type": "code",
      "source": [
        "# Metodo de la secante\n",
        "def secante(a,b,f):\n",
        "  # Tolerancia del metodo\n",
        "  tol=0.001\n",
        "  # contador de iteraciones\n",
        "  cont=0\n",
        "  # registro de la convergancia del metodo\n",
        "  registro=[]\n",
        "  paso=True\n",
        "  while paso:\n",
        "    # Calcular la primera derivada en a\n",
        "    df_a=d1f(a,f)\n",
        "    df_b=d1f(b,f)\n",
        "    # Calculo de c\n",
        "    c=b-df_b*(b-a)/(df_b-df_a)\n",
        "    if d1f(c,f)>0:\n",
        "      b=c\n",
        "    else:\n",
        "      a=c\n",
        "    cont+=1\n",
        "    registro.append([cont,c,U(c)])\n",
        "    if abs(d1f(c,f))<tol:\n",
        "      paso=False\n",
        "  return registro\n"
      ],
      "metadata": {
        "id": "xhGXeByU2Vbw"
      },
      "execution_count": null,
      "outputs": []
    },
    {
      "cell_type": "code",
      "source": [
        "# metod de la seccion dorada\n",
        "def seccion_dorada(a,b,f):\n",
        "  #2 menos el numero phi (proporcion aurea)\n",
        "  t=2-1.618033988\n",
        "  #tolerancia\n",
        "  tol=1e-6\n",
        "  # Nuevos limites\n",
        "  a1=a*(1-t)+b*t\n",
        "  b1=a*t+b*(1-t)\n",
        "  # Registro\n",
        "  reg=[]\n",
        "  cont=0\n",
        "  paso=True\n",
        "  while paso:\n",
        "    if f(a1)>f(b1):\n",
        "      a=a1\n",
        "    else:\n",
        "      b=b1\n",
        "    cont+=1\n",
        "    reg.append([cont,b1,f(b1)])\n",
        "    if abs(a-b)<tol:\n",
        "      paso=False\n",
        "    else:\n",
        "      a1=a*(1-t)+b*t\n",
        "      b1=a*t+b*(1-t)\n",
        "  return reg"
      ],
      "metadata": {
        "id": "5nALkUTM2Y9H"
      },
      "execution_count": null,
      "outputs": []
    },
    {
      "cell_type": "code",
      "source": [
        "# Necesario para el metodo de Fibonacci\n",
        "def fibonacci_s(n):\n",
        "  fib=[1,1]\n",
        "  for i in range(n):\n",
        "    fib.append(fib[i-1]+fib[i-2])\n",
        "  return fib\n",
        "# Metodo de Fibonacci\n",
        "def opt_fib(a,b,f,n):\n",
        "  tol=1e-6\n",
        "  # n del metodo, que es fijo\n",
        "  fs=fibonacci_s(n)\n",
        "  # Se inicializa k con 2\n",
        "  k=2\n",
        "  # Se requiere la longitud total del intevalo\n",
        "  L=b-a\n",
        "  # El algoritmmo recorre toda la sucesion de fibonacci desde el\n",
        "  # ultimo termino, si el algorimto no converge con la cantidad de\n",
        "  # trerminos de la sucacion de fibonacci, hay que tener cuidado\n",
        "  Lk=fs[n-k+1]*L/fs[-1]\n",
        "  x_a=a+Lk\n",
        "  x_b=b-Lk\n",
        "  cont=0\n",
        "  paso=True\n",
        "  reg=[]\n",
        "  while paso:\n",
        "\n",
        "    if f(x_a)>f(x_b):\n",
        "      a=x_a\n",
        "    else:\n",
        "      b=x_b\n",
        "    k+=1\n",
        "    cont+=1\n",
        "    reg.append([cont,x_a,f(x_a)])\n",
        "    if abs(a-b)<tol:\n",
        "      paso=False\n",
        "    else:\n",
        "      # Por si el metodo se acaba la sucesion de fibonacci\n",
        "      if k==len(fs):\n",
        "        paso=False\n",
        "      else:\n",
        "        # Redefine x_a,x_b y regresa el ciclo\n",
        "        Lk=fs[n-k+1]*L/fs[-1]\n",
        "        x_a=a+Lk\n",
        "        x_b=b-Lk\n",
        "  return reg"
      ],
      "metadata": {
        "id": "vB5bZw3X2e3W"
      },
      "execution_count": null,
      "outputs": []
    },
    {
      "cell_type": "code",
      "source": [
        "#Graficacion de la primarea funcion f1\n",
        "# x=[a,b]\n",
        "x1=[-5,5]\n",
        "GraficarFuncionObjetivo(x1[0],x1[1],f1)"
      ],
      "metadata": {
        "colab": {
          "base_uri": "https://localhost:8080/",
          "height": 449
        },
        "id": "TCitXvlWr_kl",
        "outputId": "7d82f3f3-894c-40d1-da14-e21deba7422a"
      },
      "execution_count": 8,
      "outputs": [
        {
          "output_type": "display_data",
          "data": {
            "text/plain": [
              "<Figure size 640x480 with 1 Axes>"
            ],
            "image/png": "[encoded data removed]"
          },
          "metadata": {}
        }
      ]
    }
  ]
}