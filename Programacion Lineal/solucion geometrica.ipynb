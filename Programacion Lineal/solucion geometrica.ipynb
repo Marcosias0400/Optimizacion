{
  "cells": [
    {
      "cell_type": "markdown",
      "metadata": {
        "id": "glgRueR65YhI"
      },
      "source": [
        "# Programación Lineal\n",
        "\n",
        "# Solución Geométrica"
      ]
    },
    {
      "cell_type": "markdown",
      "metadata": {
        "id": "ukPYMY_Q5YhM"
      },
      "source": [
        "## Problema"
      ]
    },
    {
      "cell_type": "markdown",
      "metadata": {
        "id": "bVIGeL7K5YhM"
      },
      "source": [
        "Una fábrica produce dos tipos de recipientes, K y L, para lo cual utiliza dos máquinas, $M_1$ y $M_2$. Para producir un recipiente K, $M_1$ necesita 2 minutos y $M_2$, 4 minutos. De manera semejante, L ocupa 8 minutos a $M_1$ y 4 minutos a $M_2$. La ganancia neta para un recipiente K es de 29 pesos y para uno L es de 45 pesos. Determinar el plan de producción que maximice la ganancia neta."
      ]
    },
    {
      "cell_type": "markdown",
      "metadata": {
        "id": "AAhA8kO85YhM"
      },
      "source": [
        "De manera formal:\n",
        "\n",
        "#### Variables de decisión:\n",
        "\n",
        "Número de recipientes K, $x_1$ y L, $x_2$.\n",
        "\n",
        "#### Función Objetivo:\n",
        "\n",
        "Maximizar $29x_1 + 45x_2$\n",
        "\n",
        "#### Restricciones:\n",
        "\n",
        "Consideramos la producción por hora:\n",
        "\n",
        "Resultante de la máquina $M_1$: $2x_1 + 8x_2 \\leq 60$\n",
        "\n",
        "Resultante de la máquina $M_2$: $4x_1 + 4x_2 \\leq 60$\n",
        "\n",
        "No negatividad: $x_1 \\geq 0$, $x_2 \\geq 0$"
      ]
    },
    {
      "cell_type": "code",
      "execution_count": null,
      "metadata": {
        "id": "o7z7Q23h5YhO"
      },
      "outputs": [],
      "source": [
        "import matplotlib.pyplot as plt\n",
        "%matplotlib inline"
      ]
    },
    {
      "cell_type": "code",
      "execution_count": null,
      "metadata": {
        "id": "KcfJYybS5YhO"
      },
      "outputs": [],
      "source": [
        "plt.figure()\n",
        "\n",
        "# Restricción para M1\n",
        "plt.plot([0, 60.0/2.0], [60.0/8.0, 0], color='orange', alpha=0.25)\n",
        "plt.fill_between([0, 60.0/2.0], [60.0/8.0, 0], color='orange', alpha=0.25, label='resultante de M1')\n",
        "\n",
        "plt.xlabel('recipientes K')\n",
        "plt.ylabel('recipientes L')\n",
        "plt.legend()\n",
        "plt.show()"
      ]
    },
    {
      "cell_type": "code",
      "execution_count": null,
      "metadata": {
        "id": "_0SZ0H045YhP"
      },
      "outputs": [],
      "source": [
        "plt.figure()\n",
        "\n",
        "# Restricción para M1\n",
        "plt.plot([0, 60.0/2.0], [60.0/8.0, 0], color='orange', alpha=0.25)\n",
        "plt.fill_between([0, 60.0/2.0], [60.0/8.0, 0], color='orange', alpha=0.25, label='resultante de M1')\n",
        "\n",
        "# Restricción para M2\n",
        "plt.plot([0, 60.0/4.0], [60.0/4.0, 0], color='blue', alpha=0.125)\n",
        "plt.fill_between([0, 60.0/4.0], [60.0/4.0, 0], color='blue', alpha=0.125, label='resultante de M2')\n",
        "\n",
        "plt.xlabel('recipientes K')\n",
        "plt.ylabel('recipientes L')\n",
        "plt.legend()\n",
        "plt.show()"
      ]
    },
    {
      "cell_type": "code",
      "execution_count": null,
      "metadata": {
        "id": "1c3HErvY5YhP"
      },
      "outputs": [],
      "source": [
        "plt.figure()\n",
        "\n",
        "# Restricción para M1\n",
        "plt.plot([0, 60.0/2.0], [60.0/8.0, 0], color='orange', alpha=0.25)\n",
        "plt.fill_between([0, 60.0/2.0], [60.0/8.0, 0], color='orange', alpha=0.25, label='resultante de M1')\n",
        "\n",
        "# Restricción para M2\n",
        "plt.plot([0, 60.0/4.0], [60.0/4.0, 0], color='blue', alpha=0.125)\n",
        "plt.fill_between([0, 60.0/4.0], [60.0/4.0, 0], color='blue', alpha=0.125, label='resultante de M2')\n",
        "\n",
        "plt.xlabel('recipientes K')\n",
        "plt.ylabel('recipientes L')\n",
        "\n",
        "plt.scatter([5], [4])  # punto factible\n",
        "\n",
        "plt.xlim(0)\n",
        "plt.ylim(0)\n",
        "\n",
        "plt.legend()\n",
        "plt.show()"
      ]
    },
    {
      "cell_type": "markdown",
      "metadata": {
        "id": "utfzy6RA5YhP"
      },
      "source": [
        "$z_1 = 29 * 5 + 45 * 4 = 325$"
      ]
    },
    {
      "cell_type": "code",
      "execution_count": null,
      "metadata": {
        "id": "WeekDx055YhP"
      },
      "outputs": [],
      "source": [
        "plt.figure()\n",
        "\n",
        "# Restricción para M1\n",
        "plt.plot([0, 60.0/2.0], [60.0/8.0, 0], color='orange', alpha=0.25)\n",
        "plt.fill_between([0, 60.0/2.0], [60.0/8.0, 0], color='orange', alpha=0.25, label='resultante de M1')\n",
        "\n",
        "# Restricción para M2\n",
        "plt.plot([0, 60.0/4.0], [60.0/4.0, 0], color='blue', alpha=0.125)\n",
        "plt.fill_between([0, 60.0/4.0], [60.0/4.0, 0], color='blue', alpha=0.125, label='resultante de M2')\n",
        "\n",
        "plt.xlabel('recipientes K')\n",
        "plt.ylabel('recipientes L')\n",
        "\n",
        "plt.scatter([5], [4])  # punto factible\n",
        "plt.plot([0, 325.0/29], [325.0/45, 0], color='black')\n",
        "\n",
        "plt.xlim(0)\n",
        "plt.ylim(0)\n",
        "\n",
        "plt.legend()\n",
        "plt.show()"
      ]
    },
    {
      "cell_type": "code",
      "execution_count": null,
      "metadata": {
        "id": "hukS0wAN5YhQ"
      },
      "outputs": [],
      "source": [
        "plt.figure()\n",
        "\n",
        "# Restricción para M1\n",
        "plt.plot([0, 60.0/2.0], [60.0/8.0, 0], color='orange', alpha=0.25)\n",
        "plt.fill_between([0, 60.0/2.0], [60.0/8.0, 0], color='orange', alpha=0.25, label='resultante de M1')\n",
        "\n",
        "# Restricción para M2\n",
        "plt.plot([0, 60.0/4.0], [60.0/4.0, 0], color='blue', alpha=0.125)\n",
        "plt.fill_between([0, 60.0/4.0], [60.0/4.0, 0], color='blue', alpha=0.125, label='resultante de M2')\n",
        "\n",
        "plt.xlabel('recipientes K')\n",
        "plt.ylabel('recipientes L')\n",
        "\n",
        "plt.scatter([5], [4])  # punto factible\n",
        "plt.plot([0, 325.0/29], [325.0/45, 0], color='black', linestyle='--')\n",
        "\n",
        "plt.scatter([10], [5], color='red')  # punto factible\n",
        "plt.plot([0, 515.0/29], [515.0/45, 0], color='red', linestyle='-.')\n",
        "\n",
        "\n",
        "plt.xlim(0)\n",
        "plt.ylim(0)\n",
        "\n",
        "plt.legend()\n",
        "plt.show()"
      ]
    },
    {
      "cell_type": "markdown",
      "metadata": {
        "id": "Ai2M3V4U5YhQ"
      },
      "source": [
        "#### Ejercicio 1\n",
        "\n",
        "Una compañía fabrica dos tipos de motores pequeños con combustible sólido. Con el motor A gana $\\$$ 3 por motor y con el motor B gana \\$ 4 por motor. Dispone de 80 horas por semana para producirlos y en los procesos se requieren: 4 h para A y solo 2 h para B. Sin embargo, debido a lo peligroso del material usado, son necesarias 5 h de preparación y limpieza para el motopr B y 2 h para A. El tiempo de preparación total disponible es 120 h por semana. Determinar el número de cada clase de motores a producir que dé como resultado la máxima ganancia.   "
      ]
    },
    {
      "cell_type": "code",
      "execution_count": 25,
      "metadata": {
        "id": "W82XEM1L5YhQ",
        "outputId": "ec1c55b1-e5c2-4c09-ea58-84793b52d598",
        "colab": {
          "base_uri": "https://localhost:8080/",
          "height": 449
        }
      },
      "outputs": [
        {
          "output_type": "display_data",
          "data": {
            "text/plain": [
              "<Figure size 640x480 with 1 Axes>"
            ],
            "image/png": "[encoded data removed]"
          },
          "metadata": {}
        }
      ],
      "source": [
        "plt.figure()\n",
        "\n",
        "# Restricción para Produccion\n",
        "plt.plot([0, 20], [40, 0], color='red', alpha=0.75)\n",
        "plt.fill_between([0, 20], [40, 0], color='red', alpha=0.25, label='resultante de Producción')\n",
        "\n",
        "# Restricción para Preparación\n",
        "plt.plot([0, 60], [24, 0], color='yellow', alpha=0.75)\n",
        "plt.fill_between([0, 60], [24, 0], color='yellow', alpha=0.125, label='resultante de Preparación')\n",
        "\n",
        "plt.xlabel('Motores A')\n",
        "plt.ylabel('Motores B')\n",
        "\n",
        "plt.scatter([10], [20],color='green')  # punto factible\n",
        "plt.plot([0, 110.0/3.0], [27.5, 0], color='black', linestyle='--')\n",
        "\n",
        "plt.xlim(0)\n",
        "plt.ylim(0)\n",
        "\n",
        "plt.legend()\n",
        "plt.show()"
      ]
    }
  ],
  "metadata": {
    "kernelspec": {
      "display_name": "Python 3 (ipykernel)",
      "language": "python",
      "name": "python3"
    },
    "language_info": {
      "codemirror_mode": {
        "name": "ipython",
        "version": 3
      },
      "file_extension": ".py",
      "mimetype": "text/x-python",
      "name": "python",
      "nbconvert_exporter": "python",
      "pygments_lexer": "ipython3",
      "version": "3.7.3"
    },
    "colab": {
      "provenance": []
    }
  },
  "nbformat": 4,
  "nbformat_minor": 0
}