{
  "nbformat": 4,
  "nbformat_minor": 0,
  "metadata": {
    "colab": {
      "provenance": [],
      "authorship_tag": "ABX9TyM/jRCMNykuXmXQkSW8rFW6",
      "include_colab_link": true
    },
    "kernelspec": {
      "name": "python3",
      "display_name": "Python 3"
    },
    "language_info": {
      "name": "python"
    }
  },
  "cells": [
    {
      "cell_type": "markdown",
      "metadata": {
        "id": "view-in-github",
        "colab_type": "text"
      },
      "source": [
        "<a href=\"https://colab.research.google.com/github/Marcosias0400/Optimizacion/blob/main/Newton_Estacionario.ipynb\" target=\"_parent\"><img src=\"https://colab.research.google.com/assets/colab-badge.svg\" alt=\"Open In Colab\"/></a>"
      ]
    },
    {
      "cell_type": "code",
      "source": [
        "import numpy as np"
      ],
      "metadata": {
        "id": "5G6GgHr9lbfk"
      },
      "execution_count": 1,
      "outputs": []
    },
    {
      "cell_type": "code",
      "execution_count": 2,
      "metadata": {
        "id": "dw9Gzd0rk-Jl"
      },
      "outputs": [],
      "source": [
        "# Funcion de prueba\n",
        "def f(x):\n",
        "  return 100*(x[1]-x[0])**2+(1-x[0]**2)"
      ]
    },
    {
      "cell_type": "code",
      "source": [
        "# Gradiente de la funcion\n",
        "def d1f(x):\n",
        "  return np.array([198*x[0]-200*x[1],200*(x[1]-x[0])])"
      ],
      "metadata": {
        "id": "-IPzZbXnlYhr"
      },
      "execution_count": 3,
      "outputs": []
    },
    {
      "cell_type": "code",
      "source": [
        "# Matriz Hessiana de la funcion de prueba\n",
        "def d2f(x):\n",
        "  return np.array([[198,-200],[-200,200]])"
      ],
      "metadata": {
        "id": "S_A9AKwWlu_d"
      },
      "execution_count": 4,
      "outputs": []
    },
    {
      "cell_type": "code",
      "source": [
        "# Condiciones iniciales\n",
        "x_0=np.array([-1.2,1])\n",
        "N=250\n",
        "k=0\n",
        "tol=1e-3\n",
        "# Tamanyo de paso inicial\n",
        "a=1"
      ],
      "metadata": {
        "id": "csRXKqxSl_wu"
      },
      "execution_count": 5,
      "outputs": []
    },
    {
      "cell_type": "code",
      "source": [
        "A=d2f(x_0)\n",
        "condicion=np.linalg.cond(A)\n",
        "pos=np.linalg.det(A)\n",
        "dim=len(A)\n",
        "# Si la matriz no es dafinida positiva, entonces hay que acondicionar:\n",
        "while pos<=0:\n",
        "  A=A+0.01*np.identity(dim)\n",
        "  pos=np.linalg.det(A)\n",
        "print(A)"
      ],
      "metadata": {
        "colab": {
          "base_uri": "https://localhost:8080/"
        },
        "id": "Zcqrulz8m-Av",
        "outputId": "29955626-4747-4fb1-e83d-830e145965ae"
      },
      "execution_count": 6,
      "outputs": [
        {
          "output_type": "stream",
          "name": "stdout",
          "text": [
            "[[ 199.01 -200.  ]\n",
            " [-200.    201.01]]\n"
          ]
        }
      ]
    },
    {
      "cell_type": "code",
      "source": [
        "# Revisa si la matriz esta bien condicionada\n",
        "condicion=np.linalg.cond(A)\n",
        "if condicion<=tol and condicion>=-tol:\n",
        "  print('Esta bien condicionada')\n",
        "  dk=np.dot(np.linalg.inv(A),-1*np.array(d1f(x_0)))\n",
        "  xk=x_0+[a*dk[0],a*dk[1]]\n",
        "  reg=[]\n",
        "  while np.linalg.norm(d1f(xk))>tol and k<N:\n",
        "    dk=np.dot(A,np.array(d1f(xk)))\n",
        "    xk=[xk[0]+a*dk[0],xk[1]+a*dk[1]]\n",
        "    l=np.dot(d1f(xk),d1f(xk))/np.dot(np.dot(xk,d2f(xk)),xk)\n",
        "    reg.append([k,xk,np.linalg.norm(dk),f(xk),a])\n",
        "    k+=1\n",
        "else:\n",
        "  print('Usar la direccion de descenso como el gradiente')\n",
        "  dk=-d1f(x_0)\n",
        "  xk=x_0+a*dk\n",
        "  reg=[]\n",
        "  while np.linalg.norm(d1f(xk))>tol and k<N:\n",
        "    dk=-d1f(xk)\n",
        "    xk=xk+a*dk\n",
        "    a=np.dot(d1f(xk),d1f(xk))/np.dot(np.dot(xk,d2f(xk)),xk)\n",
        "    k+=1\n",
        "    reg.append([k,xk,np.linalg.norm(dk),f(xk),a])"
      ],
      "metadata": {
        "colab": {
          "base_uri": "https://localhost:8080/"
        },
        "id": "X6Hg3VsSqDPy",
        "outputId": "897f5324-e641-450e-f783-3530657e67bc"
      },
      "execution_count": 7,
      "outputs": [
        {
          "output_type": "stream",
          "name": "stdout",
          "text": [
            "Usar la direccion de descenso como el gradiente\n"
          ]
        },
        {
          "output_type": "stream",
          "name": "stderr",
          "text": [
            "<ipython-input-7-7a69557314a7>:22: RuntimeWarning: invalid value encountered in double_scalars\n",
            "  a=np.dot(d1f(xk),d1f(xk))/np.dot(np.dot(xk,d2f(xk)),xk)\n",
            "<ipython-input-2-b43a9a82921b>:3: RuntimeWarning: overflow encountered in double_scalars\n",
            "  return 100*(x[1]-x[0])**2+(1-x[0]**2)\n",
            "<ipython-input-2-b43a9a82921b>:3: RuntimeWarning: invalid value encountered in double_scalars\n",
            "  return 100*(x[1]-x[0])**2+(1-x[0]**2)\n"
          ]
        }
      ]
    },
    {
      "cell_type": "code",
      "source": [
        "for o in reg:\n",
        "  print(\"it: \"+str(o[0])+\"  x:\"+str(o[1])+\" dir:\"+str(o[2])+\" f:\"+str(o[3])+\" alfa:\"+str(o[4]))"
      ],
      "metadata": {
        "id": "NDM2f4PsnnjR",
        "colab": {
          "base_uri": "https://localhost:8080/"
        },
        "outputId": "00741cc2-86d0-446a-d0f0-44635da02406"
      },
      "execution_count": 8,
      "outputs": [
        {
          "output_type": "stream",
          "name": "stdout",
          "text": [
            "it: 1  x:[-173770.8  174641. ] dir:246984.11878467008 f:12108881946992.363 alfa:399.0024999843808\n",
            "it: 2  x:[ 2.76645921e+10 -2.78032612e+10] dir:98300296.732668 f:3.069029454319093e+23 alfa:399.0024999843752\n",
            "it: 3  x:[-4.40425828e+15  4.42633462e+15] dir:15649603348321.65 f:7.778539614731346e+33 alfa:399.0024999843752\n",
            "it: 4  x:[ 7.01166705e+20 -7.04681303e+20] dir:2.491448073914167e+18 f:1.9714922726725316e+44 alfa:399.0024999843752\n",
            "it: 5  x:[-1.11627138e+26  1.12186669e+26] dir:3.966435037905494e+23 f:4.9968014225273646e+54 alfa:399.0024999843752\n",
            "it: 6  x:[ 1.77712631e+31 -1.78603416e+31] dir:6.314643710477893e+28 f:1.2664530722367542e+65 alfa:399.00249998437516\n",
            "it: 7  x:[-2.82922054e+36  2.84340201e+36] dir:1.0053038763830142e+34 f:3.2098601656390503e+75 alfa:399.0024999843752\n",
            "it: 8  x:[ 4.50417554e+41 -4.52675272e+41] dir:1.6004638269515757e+39 f:8.135478928373784e+85 alfa:399.00249998437533\n",
            "it: 9  x:[-7.17073732e+46  7.20668064e+46] dir:2.547970341660729e+44 f:2.0619595240478936e+96 alfa:399.00249998437516\n",
            "it: 10  x:[ 1.14159569e+52 -1.14731794e+52] dir:4.056419615773748e+49 f:5.226093160887442e+106 alfa:399.0024999843752\n",
            "it: 11  x:[-1.81744311e+57  1.82655304e+57] dir:6.457900953630886e+54 f:1.3245676943579093e+117 alfa:399.0024999843752\n",
            "it: 12  x:[ 2.89340569e+62 -2.90790888e+62] dir:1.02811071529028e+60 f:3.357153274777635e+127 alfa:399.0024999843752\n",
            "it: 13  x:[-4.60635958e+67  4.62944895e+67] dir:1.6367727694869608e+65 f:8.508797367139178e+137 alfa:399.0024999843752\n",
            "it: 14  x:[ 7.33341634e+72 -7.37017509e+72] dir:2.6057749025382076e+70 f:2.156578109762658e+148 alfa:399.0024999843752\n",
            "it: 15  x:[-1.16749451e+78  1.17334658e+78] dir:4.148445629888088e+75 f:5.46590657037961e+158 alfa:399.0024999843752\n",
            "it: 16  x:[ 1.85867455e+83 -1.86799116e+83] dir:6.604408204014175e+80 f:1.3853490629841838e+169 alfa:399.0024999843753\n",
            "it: 17  x:[-2.95904697e+88  2.97387919e+88] dir:1.0514349618323532e+86 f:3.511205326324974e+179 alfa:399.0024999843752\n",
            "it: 18  x:[ 4.71086181e+93 -4.73447500e+93] dir:1.67390543529921e+91 f:8.899246531452425e+189 alfa:399.00249998437516\n",
            "it: 19  x:[-7.49978598e+98  7.53737866e+98] dir:2.664890847305682e+96 f:2.2555385250129935e+200 alfa:399.0024999843752\n",
            "it: 20  x:[ 1.19398089e+104 -1.19996572e+104] dir:4.2425593933173274e+101 f:5.716724466321174e+210 alfa:399.0024999843752\n",
            "it: 21  x:[-1.90084140e+109  1.91036936e+109] dir:6.754239192957251e+106 f:1.4489195489865037e+221 alfa:399.00249998437516\n",
            "it: 22  x:[ 3.02617743e+114 -3.04134614e+114] dir:1.075288354183982e+112 f:3.6723264726211976e+231 alfa:399.0024999843752\n",
            "it: 23  x:[-4.81773483e+119  4.84188373e+119] dir:1.7118805117966966e+117 f:9.307612510955266e+241 alfa:399.00249998437516\n",
            "it: 24  x:[ 7.66992997e+124 -7.70837549e+124] dir:2.725347926690095e+122 f:2.3590400063820012e+252 alfa:399.00249998437516\n",
            "it: 25  x:[-1.22106815e+130  1.22718876e+130] dir:4.338808269812287e+127 f:5.97905181931519e+262 alfa:399.0024999843752\n",
            "it: 26  x:[ 1.94396486e+135 -1.95370898e+135] dir:6.907469324496328e+132 f:1.515407138553946e+273 alfa:399.0024999843752\n",
            "it: 27  x:[-3.09483084e+140  3.11034368e+140] dir:1.0996828968181626e+138 f:3.840841098184832e+283 alfa:399.0024999843752\n",
            "it: 28  x:[ 4.92703244e+145 -4.95172919e+145] dir:1.7507171103399209e+143 f:9.734717467137313e+293 alfa:399.0024999843752\n",
            "it: 29  x:[-7.84393393e+150  7.88325165e+150] dir:2.787176566358634e+148 f:2.4672909329618904e+304 alfa:399.0024999843751\n",
            "it: 30  x:[ 1.24876993e+156 -1.25502939e+156] dir:4.437240697642119e+153 f:nan alfa:nan\n",
            "it: 31  x:[nan nan] dir:inf f:nan alfa:nan\n"
          ]
        }
      ]
    }
  ]
}